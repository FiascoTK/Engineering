{
 "cells": [
  {
   "cell_type": "code",
   "execution_count": 1,
   "id": "b2d22699",
   "metadata": {},
   "outputs": [],
   "source": [
    "import pandas as pd\n",
    "import seaborn as sns\n",
    "import numpy as np\n",
    "import pickle as pkl\n",
    "from sklearn import model_selection\n",
    "from sklearn.linear_model import LinearRegression\n",
    "\n",
    "sns.set_style(\"whitegrid\")\n",
    "sns.set_palette('viridis')"
   ]
  },
  {
   "cell_type": "code",
   "execution_count": 2,
   "id": "bde0270d",
   "metadata": {},
   "outputs": [],
   "source": [
    "# split datasets\n",
    "\n",
    "LRdf = pd.read_csv('modelDF.csv')\n",
    "\n",
    "HomeRuns = LRdf.loc[:,'HR']\n",
    "Variables = LRdf.copy()\n",
    "Variables.drop(['HR'], axis=1, inplace=True)\n",
    "\n",
    "X_train, X_test, y_train, y_test = model_selection.train_test_split(Variables, HomeRuns, test_size=0.2,random_state=5)"
   ]
  },
  {
   "cell_type": "code",
   "execution_count": 3,
   "id": "50804952",
   "metadata": {},
   "outputs": [
    {
     "name": "stdout",
     "output_type": "stream",
     "text": [
      "0.8919053044768451\n",
      "0.8976221090277573\n"
     ]
    }
   ],
   "source": [
    "# train and score model\n",
    "\n",
    "model = LinearRegression()\n",
    "model.fit(X_train, y_train)\n",
    "print(model.score(X_train, y_train))\n",
    "print(model.score(X_test, y_test))"
   ]
  },
  {
   "cell_type": "code",
   "execution_count": 4,
   "id": "72de3be5",
   "metadata": {},
   "outputs": [],
   "source": [
    "# store feature names\n",
    "\n",
    "feature_names = []\n",
    "for col in Variables.columns:\n",
    "    feature_names.append(col)\n",
    "model.feature_names = feature_names"
   ]
  },
  {
   "cell_type": "code",
   "execution_count": 6,
   "id": "8568dee8",
   "metadata": {},
   "outputs": [],
   "source": [
    "# save model as pickle\n",
    "\n",
    "with open('predictor_app/models/batting.pkl', 'wb') as f:\n",
    "    pkl.dump(model, f)"
   ]
  },
  {
   "cell_type": "code",
   "execution_count": 7,
   "id": "41e08eda",
   "metadata": {},
   "outputs": [
    {
     "data": {
      "text/plain": [
       "['PA', 'R', 'H', 'Db', 'RBI', 'BB', 'SO']"
      ]
     },
     "execution_count": 7,
     "metadata": {},
     "output_type": "execute_result"
    }
   ],
   "source": [
    "feature_names"
   ]
  },
  {
   "cell_type": "code",
   "execution_count": 57,
   "id": "44f26343",
   "metadata": {},
   "outputs": [
    {
     "data": {
      "text/plain": [
       "PA     636.0\n",
       "R      111.0\n",
       "H      147.0\n",
       "Db      32.0\n",
       "RBI    103.0\n",
       "BB      72.0\n",
       "SO      87.0\n",
       "Name: 36100, dtype: float64"
      ]
     },
     "execution_count": 57,
     "metadata": {},
     "output_type": "execute_result"
    }
   ],
   "source": [
    "Variables.iloc[36100]"
   ]
  },
  {
   "cell_type": "code",
   "execution_count": 53,
   "id": "7aed29de",
   "metadata": {},
   "outputs": [
    {
     "name": "stderr",
     "output_type": "stream",
     "text": [
      "D:\\Programs\\Anaconda\\lib\\site-packages\\sklearn\\base.py:445: UserWarning: X does not have valid feature names, but LinearRegression was fitted with feature names\n",
      "  warnings.warn(\n"
     ]
    },
    {
     "data": {
      "text/plain": [
       "array([36.90926962])"
      ]
     },
     "execution_count": 53,
     "metadata": {},
     "output_type": "execute_result"
    }
   ],
   "source": [
    "# testing effects of varying parameters\n",
    "\n",
    "model.predict([[100,100,100,100,100,100,100]])"
   ]
  },
  {
   "cell_type": "code",
   "execution_count": 56,
   "id": "3e162811",
   "metadata": {},
   "outputs": [
    {
     "name": "stderr",
     "output_type": "stream",
     "text": [
      "D:\\Programs\\Anaconda\\lib\\site-packages\\sklearn\\base.py:445: UserWarning: X does not have valid feature names, but LinearRegression was fitted with feature names\n",
      "  warnings.warn(\n"
     ]
    },
    {
     "data": {
      "text/plain": [
       "36.91"
      ]
     },
     "execution_count": 56,
     "metadata": {},
     "output_type": "execute_result"
    }
   ],
   "source": [
    "# testing to make user-friendly output for model\n",
    "\n",
    "x = round(model.predict([[100,100,100,100,100,100,100]])[0], 2)"
   ]
  },
  {
   "cell_type": "code",
   "execution_count": null,
   "id": "a5e7f7ea",
   "metadata": {},
   "outputs": [],
   "source": []
  }
 ],
 "metadata": {
  "kernelspec": {
   "display_name": "Python 3 (ipykernel)",
   "language": "python",
   "name": "python3"
  },
  "language_info": {
   "codemirror_mode": {
    "name": "ipython",
    "version": 3
   },
   "file_extension": ".py",
   "mimetype": "text/x-python",
   "name": "python",
   "nbconvert_exporter": "python",
   "pygments_lexer": "ipython3",
   "version": "3.8.8"
  }
 },
 "nbformat": 4,
 "nbformat_minor": 5
}
