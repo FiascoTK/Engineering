{
 "cells": [
  {
   "cell_type": "code",
   "execution_count": 119,
   "id": "2fdfb096",
   "metadata": {},
   "outputs": [],
   "source": [
    "import requests, bs4\n",
    "\n",
    "from bs4 import BeautifulSoup as bs\n",
    "\n",
    "import pandas as pd \n",
    "import numpy as np\n",
    "import re, os\n",
    "from time import sleep\n",
    "\n",
    "import pickle as pkl\n",
    "\n",
    "import statsmodels.api as sm\n",
    "import statsmodels.formula.api as smf\n",
    "import patsy\n",
    "\n",
    "import seaborn as sns\n",
    "import matplotlib.pyplot as plt\n",
    "from sklearn.model_selection import train_test_split\n",
    "from sklearn import datasets, model_selection\n",
    "from sklearn.linear_model import LinearRegression, Lasso, LassoCV, Ridge, RidgeCV, ElasticNet, ElasticNetCV\n",
    "from sklearn.metrics import r2_score\n",
    "\n",
    "from sklearn.pipeline import Pipeline\n",
    "from sklearn.preprocessing import StandardScaler\n",
    "from sklearn.linear_model import lars_path\n",
    "%matplotlib inline"
   ]
  },
  {
   "cell_type": "code",
   "execution_count": 2,
   "id": "51f8619f",
   "metadata": {},
   "outputs": [],
   "source": [
    "# findTables and pullTable were borrowed from\n",
    "# https://github.com/BenKite/baseball_data/blob/master/baseballReferenceScrape.py\n",
    "\n",
    "def findTables(url):\n",
    "    res = requests.get(url)\n",
    "    ## comments break parsing.  Next 2 comments fix that\n",
    "    comm = re.compile(\"<!--|-->\")\n",
    "    soup = bs4.BeautifulSoup(comm.sub(\"\", res.text), 'lxml')\n",
    "    divs = soup.findAll('div', id = \"content\")\n",
    "    divs = divs[0].findAll(\"div\", id=re.compile(\"^all\"))\n",
    "    ids = []\n",
    "    for div in divs:\n",
    "        searchme = str(div.findAll(\"table\"))\n",
    "        x = searchme[searchme.find(\"id=\") + 3: searchme.find(\">\")]\n",
    "        x = x.replace(\"\\\"\", \"\")\n",
    "        if len(x) > 0:\n",
    "            ids.append(x)\n",
    "            \n",
    "    return(ids)\n",
    "\n",
    "def pullTable(url, tableID):\n",
    "    res = requests.get(url)\n",
    "    ## Work around comments\n",
    "    comm = re.compile(\"<!--|-->\")\n",
    "    soup = bs4.BeautifulSoup(comm.sub(\"\", res.text))\n",
    "    tables = soup.findAll('table', id = tableID)\n",
    "    data_rows = tables[0].findAll('tr')\n",
    "    data_header = tables[0].findAll('thead')\n",
    "    data_header = data_header[0].findAll(\"tr\")\n",
    "    data_header = data_header[0].findAll(\"th\")\n",
    "    game_data = [[td.getText() for td in data_rows[i].findAll(['th','td'])]\n",
    "        for i in range(len(data_rows))\n",
    "        ]\n",
    "    data = pd.DataFrame(game_data)\n",
    "    header = []\n",
    "    for i in range(len(data.columns)):\n",
    "        header.append(data_header[i].getText())\n",
    "    data.columns = header\n",
    "    data = data.loc[data[header[0]] != header[0]]\n",
    "    data = data.reset_index(drop = True)\n",
    "    \n",
    "    return(data)\n",
    "\n",
    "def Get_Season_Batting_Stats(batter_df):\n",
    "    df_dict={}\n",
    "    for i in range(0, len(batter_df)):\n",
    "        url = batter_df['URL'][i]\n",
    "        batter_data = pullTable(url, \"players_standard_batting\")\n",
    "        sleep(3)\n",
    "        df_dict[batter_df['Year'][i]] = batter_data\n",
    "        \n",
    "    return df_dict\n",
    "\n",
    "def Get_Batting_Stats(batter_df):\n",
    "    df_dict={}\n",
    "    for i in range(0, len(batter_df)):\n",
    "        url = batter_df['URL'][i]\n",
    "        batter_data = pullTable(url, \"batting_standard\")\n",
    "        sleep(3)\n",
    "        df_dict[batter_df['Player'][i]] = batter_data\n",
    "        \n",
    "    return df_dict\n",
    "\n",
    "def Get_Adv_Batting_Stats(batter_df):\n",
    "    df_dict={}\n",
    "    for i in range(0, len(batter_df)):\n",
    "        url = batter_df['URL'][i]\n",
    "        batter_data = pullTable(url, \"batting_advanced\")\n",
    "        sleep(3)\n",
    "        df_dict[batter_df['Player'][i]] = batter_data\n",
    "        \n",
    "    return df_dict"
   ]
  },
  {
   "cell_type": "code",
   "execution_count": 87,
   "id": "93b6a058",
   "metadata": {},
   "outputs": [],
   "source": [
    "# test \n",
    "# d = {'Year': ['2020','2021'], 'URL':['https://www.baseball-reference.com/leagues/majors/2020-standard-batting.shtml', 'https://www.baseball-reference.com/leagues/majors/2021-standard-batting.shtml']}\n",
    "\n",
    "# Full Pull\n",
    "\n",
    "years = list(range(1946,2022))\n",
    "years = [str(x) for x in years]\n",
    "urls = []\n",
    "for i in years:\n",
    "    urls.append('https://www.baseball-reference.com/leagues/majors/' + i +'-standard-batting.shtml')\n",
    "    \n",
    "d = {'Year': years, 'URL': urls}\n",
    "\n",
    "\n",
    "url_df = pd.DataFrame(data=d)"
   ]
  },
  {
   "cell_type": "code",
   "execution_count": 88,
   "id": "fae8256f",
   "metadata": {},
   "outputs": [],
   "source": [
    "df = Get_Season_Batting_Stats(url_df)"
   ]
  },
  {
   "cell_type": "code",
   "execution_count": 42,
   "id": "9a274fa7",
   "metadata": {},
   "outputs": [
    {
     "name": "stdout",
     "output_type": "stream",
     "text": [
      "<class 'pandas.core.frame.DataFrame'>\n",
      "RangeIndex: 1724 entries, 0 to 1723\n",
      "Data columns (total 30 columns):\n",
      " #   Column       Non-Null Count  Dtype \n",
      "---  ------       --------------  ----- \n",
      " 0   Rk           1724 non-null   object\n",
      " 1   Name         1724 non-null   object\n",
      " 2   Age          1724 non-null   object\n",
      " 3   Tm           1724 non-null   object\n",
      " 4   Lg           1724 non-null   object\n",
      " 5   G            1724 non-null   object\n",
      " 6   PA           1724 non-null   object\n",
      " 7   AB           1724 non-null   object\n",
      " 8   R            1724 non-null   object\n",
      " 9   H            1724 non-null   object\n",
      " 10  2B           1724 non-null   object\n",
      " 11  3B           1724 non-null   object\n",
      " 12  HR           1724 non-null   object\n",
      " 13  RBI          1724 non-null   object\n",
      " 14  SB           1724 non-null   object\n",
      " 15  CS           1724 non-null   object\n",
      " 16  BB           1724 non-null   object\n",
      " 17  SO           1724 non-null   object\n",
      " 18  BA           1724 non-null   object\n",
      " 19  OBP          1724 non-null   object\n",
      " 20  SLG          1724 non-null   object\n",
      " 21  OPS          1724 non-null   object\n",
      " 22  OPS+         1724 non-null   object\n",
      " 23  TB           1724 non-null   object\n",
      " 24  GDP          1724 non-null   object\n",
      " 25  HBP          1724 non-null   object\n",
      " 26  SH           1724 non-null   object\n",
      " 27  SF           1724 non-null   object\n",
      " 28  IBB          1724 non-null   object\n",
      " 29  Pos Summary  1724 non-null   object\n",
      "dtypes: object(30)\n",
      "memory usage: 404.2+ KB\n"
     ]
    }
   ],
   "source": [
    "df['2021'].info()"
   ]
  },
  {
   "cell_type": "code",
   "execution_count": 89,
   "id": "c095844d",
   "metadata": {},
   "outputs": [],
   "source": [
    "# Don't run more than once \n",
    "# Adds year column to data and drops season avg row.\n",
    "\n",
    "year_list = d['Year']\n",
    "\n",
    "master_list = pd.DataFrame()\n",
    "\n",
    "for i in year_list:\n",
    "    df[i] = df[i].iloc[:-1, :]\n",
    "    df[i]['Year'] = i\n",
    "    master_list = master_list.append(df[i], ignore_index=True)\n"
   ]
  },
  {
   "cell_type": "code",
   "execution_count": 90,
   "id": "092e2da8",
   "metadata": {},
   "outputs": [],
   "source": [
    "# create save file for master_list\n",
    "# master_list.to_csv('test_batter.csv', index=False)\n",
    "# master_list.to_csv('master_batter.csv', index=False)"
   ]
  },
  {
   "cell_type": "code",
   "execution_count": 3,
   "id": "e788f90a",
   "metadata": {},
   "outputs": [
    {
     "name": "stderr",
     "output_type": "stream",
     "text": [
      "D:\\Programs\\Anaconda\\lib\\site-packages\\IPython\\core\\interactiveshell.py:3441: DtypeWarning: Columns (2) have mixed types.Specify dtype option on import or set low_memory=False.\n",
      "  exec(code_obj, self.user_global_ns, self.user_ns)\n"
     ]
    }
   ],
   "source": [
    "# using pandas\n",
    "# read in master_list to avoid scrape\n",
    "\n",
    "# master_list = pd.read_csv(\"test_batter.csv\")\n",
    "master_list = pd.read_csv(\"master_batter.csv\")"
   ]
  },
  {
   "cell_type": "code",
   "execution_count": 4,
   "id": "bc22d22a",
   "metadata": {},
   "outputs": [
    {
     "name": "stdout",
     "output_type": "stream",
     "text": [
      "<class 'pandas.core.frame.DataFrame'>\n",
      "RangeIndex: 76477 entries, 0 to 76476\n",
      "Data columns (total 31 columns):\n",
      " #   Column       Non-Null Count  Dtype  \n",
      "---  ------       --------------  -----  \n",
      " 0   Rk           76477 non-null  int64  \n",
      " 1   Name         76477 non-null  object \n",
      " 2   Age          76477 non-null  object \n",
      " 3   Tm           76477 non-null  object \n",
      " 4   Lg           76477 non-null  object \n",
      " 5   G            76477 non-null  int64  \n",
      " 6   PA           76477 non-null  int64  \n",
      " 7   AB           76477 non-null  int64  \n",
      " 8   R            76477 non-null  int64  \n",
      " 9   H            76477 non-null  int64  \n",
      " 10  2B           76477 non-null  int64  \n",
      " 11  3B           76477 non-null  int64  \n",
      " 12  HR           76477 non-null  int64  \n",
      " 13  RBI          76477 non-null  int64  \n",
      " 14  SB           76477 non-null  int64  \n",
      " 15  CS           75501 non-null  float64\n",
      " 16  BB           76477 non-null  int64  \n",
      " 17  SO           75497 non-null  float64\n",
      " 18  BA           67036 non-null  float64\n",
      " 19  OBP          67231 non-null  float64\n",
      " 20  SLG          67036 non-null  float64\n",
      " 21  OPS          67036 non-null  float64\n",
      " 22  OPS+         67036 non-null  float64\n",
      " 23  TB           76477 non-null  int64  \n",
      " 24  GDP          75501 non-null  float64\n",
      " 25  HBP          76477 non-null  int64  \n",
      " 26  SH           76477 non-null  int64  \n",
      " 27  SF           70284 non-null  float64\n",
      " 28  IBB          75501 non-null  float64\n",
      " 29  Pos Summary  76435 non-null  object \n",
      " 30  Year         76477 non-null  int64  \n",
      "dtypes: float64(10), int64(16), object(5)\n",
      "memory usage: 18.1+ MB\n"
     ]
    }
   ],
   "source": [
    "master_list.info()"
   ]
  },
  {
   "cell_type": "code",
   "execution_count": 177,
   "id": "fac2585f",
   "metadata": {},
   "outputs": [
    {
     "name": "stderr",
     "output_type": "stream",
     "text": [
      "C:\\Users\\Billy\\AppData\\Local\\Temp/ipykernel_16092/902772370.py:5: SettingWithCopyWarning: \n",
      "A value is trying to be set on a copy of a slice from a DataFrame\n",
      "\n",
      "See the caveats in the documentation: https://pandas.pydata.org/pandas-docs/stable/user_guide/indexing.html#returning-a-view-versus-a-copy\n",
      "  master_list['Name'][count] = name[:-1]\n"
     ]
    }
   ],
   "source": [
    "# clean data by removing special characters from end of name, filling in missing values, and converting to int and floats\n",
    "count = 0\n",
    "for name in master_list['Name']:\n",
    "    if name[-1] == '#' or name[-1] == '*' or name[-1] == '?':\n",
    "        master_list['Name'][count] = name[:-1]\n",
    "    count += 1\n",
    "\n",
    "master_list= master_list.fillna(0)    \n",
    "for col in master_list:\n",
    "    master_list[col] = pd.to_numeric(master_list[col], errors='ignore')"
   ]
  },
  {
   "cell_type": "code",
   "execution_count": 178,
   "id": "b9d0d92b",
   "metadata": {},
   "outputs": [],
   "source": [
    "# only run once\n",
    "# drop Rk column\n",
    "master_list.drop(['Rk'], axis=1, inplace=True)"
   ]
  },
  {
   "cell_type": "code",
   "execution_count": 185,
   "id": "de58634c",
   "metadata": {},
   "outputs": [],
   "source": [
    "# drop rows that have 'TOT' for team to avoind double counting\n",
    "\n",
    "master_list = master_list[master_list['Tm'] != 'TOT']"
   ]
  },
  {
   "cell_type": "code",
   "execution_count": 187,
   "id": "9a51de43",
   "metadata": {},
   "outputs": [],
   "source": [
    "# create csv for cleaned data\n",
    "\n",
    "master_list.to_csv('clean_batter.csv', index=False)"
   ]
  },
  {
   "cell_type": "code",
   "execution_count": 8,
   "id": "0da85af5",
   "metadata": {},
   "outputs": [],
   "source": [
    "#create json for cleaned data\n",
    "\n",
    "master_list.to_json('clean_batter.json')"
   ]
  },
  {
   "cell_type": "code",
   "execution_count": null,
   "id": "a789c8a1",
   "metadata": {},
   "outputs": [],
   "source": [
    "# load in cleaned csv\n",
    "master_list = pd.read_csv(\"clean_batter.csv\")"
   ]
  },
  {
   "cell_type": "code",
   "execution_count": 6,
   "id": "94e358ff",
   "metadata": {},
   "outputs": [
    {
     "data": {
      "text/html": [
       "<div>\n",
       "<style scoped>\n",
       "    .dataframe tbody tr th:only-of-type {\n",
       "        vertical-align: middle;\n",
       "    }\n",
       "\n",
       "    .dataframe tbody tr th {\n",
       "        vertical-align: top;\n",
       "    }\n",
       "\n",
       "    .dataframe thead th {\n",
       "        text-align: right;\n",
       "    }\n",
       "</style>\n",
       "<table border=\"1\" class=\"dataframe\">\n",
       "  <thead>\n",
       "    <tr style=\"text-align: right;\">\n",
       "      <th></th>\n",
       "      <th>Name</th>\n",
       "      <th>Age</th>\n",
       "      <th>Tm</th>\n",
       "      <th>Lg</th>\n",
       "      <th>G</th>\n",
       "      <th>PA</th>\n",
       "      <th>AB</th>\n",
       "      <th>R</th>\n",
       "      <th>H</th>\n",
       "      <th>2B</th>\n",
       "      <th>...</th>\n",
       "      <th>OPS</th>\n",
       "      <th>OPS+</th>\n",
       "      <th>TB</th>\n",
       "      <th>GDP</th>\n",
       "      <th>HBP</th>\n",
       "      <th>SH</th>\n",
       "      <th>SF</th>\n",
       "      <th>IBB</th>\n",
       "      <th>Pos Summary</th>\n",
       "      <th>Year</th>\n",
       "    </tr>\n",
       "  </thead>\n",
       "  <tbody>\n",
       "    <tr>\n",
       "      <th>0</th>\n",
       "      <td>Woody Abernathy</td>\n",
       "      <td>31</td>\n",
       "      <td>NYG</td>\n",
       "      <td>NL</td>\n",
       "      <td>15</td>\n",
       "      <td>8</td>\n",
       "      <td>8</td>\n",
       "      <td>0</td>\n",
       "      <td>0</td>\n",
       "      <td>0</td>\n",
       "      <td>...</td>\n",
       "      <td>0.000</td>\n",
       "      <td>-100.0</td>\n",
       "      <td>0</td>\n",
       "      <td>0.0</td>\n",
       "      <td>0</td>\n",
       "      <td>0</td>\n",
       "      <td>0.0</td>\n",
       "      <td>0.0</td>\n",
       "      <td>1</td>\n",
       "      <td>1946</td>\n",
       "    </tr>\n",
       "    <tr>\n",
       "      <th>1</th>\n",
       "      <td>Ace Adams</td>\n",
       "      <td>36</td>\n",
       "      <td>NYG</td>\n",
       "      <td>NL</td>\n",
       "      <td>3</td>\n",
       "      <td>0</td>\n",
       "      <td>0</td>\n",
       "      <td>0</td>\n",
       "      <td>0</td>\n",
       "      <td>0</td>\n",
       "      <td>...</td>\n",
       "      <td>0.000</td>\n",
       "      <td>0.0</td>\n",
       "      <td>0</td>\n",
       "      <td>0.0</td>\n",
       "      <td>0</td>\n",
       "      <td>0</td>\n",
       "      <td>0.0</td>\n",
       "      <td>0.0</td>\n",
       "      <td>/1</td>\n",
       "      <td>1946</td>\n",
       "    </tr>\n",
       "    <tr>\n",
       "      <th>2</th>\n",
       "      <td>Bobby Adams</td>\n",
       "      <td>24</td>\n",
       "      <td>CIN</td>\n",
       "      <td>NL</td>\n",
       "      <td>94</td>\n",
       "      <td>346</td>\n",
       "      <td>311</td>\n",
       "      <td>35</td>\n",
       "      <td>76</td>\n",
       "      <td>13</td>\n",
       "      <td>...</td>\n",
       "      <td>0.636</td>\n",
       "      <td>82.0</td>\n",
       "      <td>107</td>\n",
       "      <td>7.0</td>\n",
       "      <td>3</td>\n",
       "      <td>14</td>\n",
       "      <td>0.0</td>\n",
       "      <td>1.0</td>\n",
       "      <td>4H/95</td>\n",
       "      <td>1946</td>\n",
       "    </tr>\n",
       "    <tr>\n",
       "      <th>3</th>\n",
       "      <td>Buster Adams</td>\n",
       "      <td>31</td>\n",
       "      <td>STL</td>\n",
       "      <td>NL</td>\n",
       "      <td>81</td>\n",
       "      <td>209</td>\n",
       "      <td>173</td>\n",
       "      <td>21</td>\n",
       "      <td>32</td>\n",
       "      <td>6</td>\n",
       "      <td>...</td>\n",
       "      <td>0.619</td>\n",
       "      <td>73.0</td>\n",
       "      <td>53</td>\n",
       "      <td>3.0</td>\n",
       "      <td>3</td>\n",
       "      <td>4</td>\n",
       "      <td>0.0</td>\n",
       "      <td>2.0</td>\n",
       "      <td>87H</td>\n",
       "      <td>1946</td>\n",
       "    </tr>\n",
       "    <tr>\n",
       "      <th>4</th>\n",
       "      <td>Emery Adams</td>\n",
       "      <td>35</td>\n",
       "      <td>NBY</td>\n",
       "      <td>NN2</td>\n",
       "      <td>1</td>\n",
       "      <td>0</td>\n",
       "      <td>0</td>\n",
       "      <td>0</td>\n",
       "      <td>0</td>\n",
       "      <td>0</td>\n",
       "      <td>...</td>\n",
       "      <td>0.000</td>\n",
       "      <td>0.0</td>\n",
       "      <td>0</td>\n",
       "      <td>0.0</td>\n",
       "      <td>0</td>\n",
       "      <td>0</td>\n",
       "      <td>0.0</td>\n",
       "      <td>0.0</td>\n",
       "      <td>/1</td>\n",
       "      <td>1946</td>\n",
       "    </tr>\n",
       "  </tbody>\n",
       "</table>\n",
       "<p>5 rows × 30 columns</p>\n",
       "</div>"
      ],
      "text/plain": [
       "              Name Age   Tm   Lg   G   PA   AB   R   H  2B  ...    OPS   OPS+  \\\n",
       "0  Woody Abernathy  31  NYG   NL  15    8    8   0   0   0  ...  0.000 -100.0   \n",
       "1        Ace Adams  36  NYG   NL   3    0    0   0   0   0  ...  0.000    0.0   \n",
       "2      Bobby Adams  24  CIN   NL  94  346  311  35  76  13  ...  0.636   82.0   \n",
       "3     Buster Adams  31  STL   NL  81  209  173  21  32   6  ...  0.619   73.0   \n",
       "4      Emery Adams  35  NBY  NN2   1    0    0   0   0   0  ...  0.000    0.0   \n",
       "\n",
       "    TB  GDP  HBP  SH   SF  IBB  Pos Summary  Year  \n",
       "0    0  0.0    0   0  0.0  0.0            1  1946  \n",
       "1    0  0.0    0   0  0.0  0.0           /1  1946  \n",
       "2  107  7.0    3  14  0.0  1.0        4H/95  1946  \n",
       "3   53  3.0    3   4  0.0  2.0          87H  1946  \n",
       "4    0  0.0    0   0  0.0  0.0           /1  1946  \n",
       "\n",
       "[5 rows x 30 columns]"
      ]
     },
     "execution_count": 6,
     "metadata": {},
     "output_type": "execute_result"
    }
   ],
   "source": [
    "master_list.head()"
   ]
  },
  {
   "cell_type": "code",
   "execution_count": 9,
   "id": "b48df92e",
   "metadata": {},
   "outputs": [
    {
     "data": {
      "text/html": [
       "<div>\n",
       "<style scoped>\n",
       "    .dataframe tbody tr th:only-of-type {\n",
       "        vertical-align: middle;\n",
       "    }\n",
       "\n",
       "    .dataframe tbody tr th {\n",
       "        vertical-align: top;\n",
       "    }\n",
       "\n",
       "    .dataframe thead th {\n",
       "        text-align: right;\n",
       "    }\n",
       "</style>\n",
       "<table border=\"1\" class=\"dataframe\">\n",
       "  <thead>\n",
       "    <tr style=\"text-align: right;\">\n",
       "      <th></th>\n",
       "      <th>Name</th>\n",
       "      <th>Age</th>\n",
       "      <th>Tm</th>\n",
       "      <th>Lg</th>\n",
       "      <th>G</th>\n",
       "      <th>PA</th>\n",
       "      <th>AB</th>\n",
       "      <th>R</th>\n",
       "      <th>H</th>\n",
       "      <th>2B</th>\n",
       "      <th>...</th>\n",
       "      <th>OPS</th>\n",
       "      <th>OPS+</th>\n",
       "      <th>TB</th>\n",
       "      <th>GDP</th>\n",
       "      <th>HBP</th>\n",
       "      <th>SH</th>\n",
       "      <th>SF</th>\n",
       "      <th>IBB</th>\n",
       "      <th>Pos Summary</th>\n",
       "      <th>Year</th>\n",
       "    </tr>\n",
       "  </thead>\n",
       "  <tbody>\n",
       "    <tr>\n",
       "      <th>45</th>\n",
       "      <td>Russ Bauers</td>\n",
       "      <td>32</td>\n",
       "      <td>CHC</td>\n",
       "      <td>NL</td>\n",
       "      <td>15</td>\n",
       "      <td>12</td>\n",
       "      <td>10</td>\n",
       "      <td>1</td>\n",
       "      <td>3</td>\n",
       "      <td>1</td>\n",
       "      <td>...</td>\n",
       "      <td>0.817</td>\n",
       "      <td>134.0</td>\n",
       "      <td>4</td>\n",
       "      <td>0.0</td>\n",
       "      <td>0</td>\n",
       "      <td>0</td>\n",
       "      <td>0.0</td>\n",
       "      <td>0.0</td>\n",
       "      <td>1</td>\n",
       "      <td>1946</td>\n",
       "    </tr>\n",
       "    <tr>\n",
       "      <th>46</th>\n",
       "      <td>Johnny Beazley</td>\n",
       "      <td>28</td>\n",
       "      <td>STL</td>\n",
       "      <td>NL</td>\n",
       "      <td>19</td>\n",
       "      <td>38</td>\n",
       "      <td>33</td>\n",
       "      <td>2</td>\n",
       "      <td>8</td>\n",
       "      <td>1</td>\n",
       "      <td>...</td>\n",
       "      <td>0.558</td>\n",
       "      <td>56.0</td>\n",
       "      <td>9</td>\n",
       "      <td>1.0</td>\n",
       "      <td>0</td>\n",
       "      <td>3</td>\n",
       "      <td>0.0</td>\n",
       "      <td>0.0</td>\n",
       "      <td>1</td>\n",
       "      <td>1946</td>\n",
       "    </tr>\n",
       "    <tr>\n",
       "      <th>47</th>\n",
       "      <td>Heinz Becker</td>\n",
       "      <td>30</td>\n",
       "      <td>CHC</td>\n",
       "      <td>NL</td>\n",
       "      <td>9</td>\n",
       "      <td>8</td>\n",
       "      <td>7</td>\n",
       "      <td>0</td>\n",
       "      <td>2</td>\n",
       "      <td>0</td>\n",
       "      <td>...</td>\n",
       "      <td>0.661</td>\n",
       "      <td>90.0</td>\n",
       "      <td>2</td>\n",
       "      <td>0.0</td>\n",
       "      <td>0</td>\n",
       "      <td>0</td>\n",
       "      <td>0.0</td>\n",
       "      <td>0.0</td>\n",
       "      <td>/H</td>\n",
       "      <td>1946</td>\n",
       "    </tr>\n",
       "    <tr>\n",
       "      <th>48</th>\n",
       "      <td>Heinz Becker</td>\n",
       "      <td>30</td>\n",
       "      <td>CLE</td>\n",
       "      <td>AL</td>\n",
       "      <td>50</td>\n",
       "      <td>172</td>\n",
       "      <td>147</td>\n",
       "      <td>15</td>\n",
       "      <td>44</td>\n",
       "      <td>10</td>\n",
       "      <td>...</td>\n",
       "      <td>0.782</td>\n",
       "      <td>126.0</td>\n",
       "      <td>56</td>\n",
       "      <td>2.0</td>\n",
       "      <td>2</td>\n",
       "      <td>0</td>\n",
       "      <td>0.0</td>\n",
       "      <td>2.0</td>\n",
       "      <td>3/H</td>\n",
       "      <td>1946</td>\n",
       "    </tr>\n",
       "    <tr>\n",
       "      <th>49</th>\n",
       "      <td>Joe Beggs</td>\n",
       "      <td>35</td>\n",
       "      <td>CIN</td>\n",
       "      <td>NL</td>\n",
       "      <td>28</td>\n",
       "      <td>74</td>\n",
       "      <td>63</td>\n",
       "      <td>4</td>\n",
       "      <td>14</td>\n",
       "      <td>2</td>\n",
       "      <td>...</td>\n",
       "      <td>0.523</td>\n",
       "      <td>51.0</td>\n",
       "      <td>16</td>\n",
       "      <td>0.0</td>\n",
       "      <td>0</td>\n",
       "      <td>7</td>\n",
       "      <td>0.0</td>\n",
       "      <td>0.0</td>\n",
       "      <td>1</td>\n",
       "      <td>1946</td>\n",
       "    </tr>\n",
       "    <tr>\n",
       "      <th>50</th>\n",
       "      <td>Hank Behrman</td>\n",
       "      <td>25</td>\n",
       "      <td>BRO</td>\n",
       "      <td>NL</td>\n",
       "      <td>47</td>\n",
       "      <td>48</td>\n",
       "      <td>42</td>\n",
       "      <td>1</td>\n",
       "      <td>4</td>\n",
       "      <td>0</td>\n",
       "      <td>...</td>\n",
       "      <td>0.232</td>\n",
       "      <td>-34.0</td>\n",
       "      <td>4</td>\n",
       "      <td>0.0</td>\n",
       "      <td>0</td>\n",
       "      <td>4</td>\n",
       "      <td>0.0</td>\n",
       "      <td>0.0</td>\n",
       "      <td>1</td>\n",
       "      <td>1946</td>\n",
       "    </tr>\n",
       "  </tbody>\n",
       "</table>\n",
       "<p>6 rows × 30 columns</p>\n",
       "</div>"
      ],
      "text/plain": [
       "              Name Age   Tm  Lg   G   PA   AB   R   H  2B  ...    OPS   OPS+  \\\n",
       "45     Russ Bauers  32  CHC  NL  15   12   10   1   3   1  ...  0.817  134.0   \n",
       "46  Johnny Beazley  28  STL  NL  19   38   33   2   8   1  ...  0.558   56.0   \n",
       "47    Heinz Becker  30  CHC  NL   9    8    7   0   2   0  ...  0.661   90.0   \n",
       "48    Heinz Becker  30  CLE  AL  50  172  147  15  44  10  ...  0.782  126.0   \n",
       "49       Joe Beggs  35  CIN  NL  28   74   63   4  14   2  ...  0.523   51.0   \n",
       "50    Hank Behrman  25  BRO  NL  47   48   42   1   4   0  ...  0.232  -34.0   \n",
       "\n",
       "    TB  GDP  HBP  SH   SF  IBB  Pos Summary  Year  \n",
       "45   4  0.0    0   0  0.0  0.0            1  1946  \n",
       "46   9  1.0    0   3  0.0  0.0            1  1946  \n",
       "47   2  0.0    0   0  0.0  0.0           /H  1946  \n",
       "48  56  2.0    2   0  0.0  2.0          3/H  1946  \n",
       "49  16  0.0    0   7  0.0  0.0            1  1946  \n",
       "50   4  0.0    0   4  0.0  0.0            1  1946  \n",
       "\n",
       "[6 rows x 30 columns]"
      ]
     },
     "execution_count": 9,
     "metadata": {},
     "output_type": "execute_result"
    }
   ],
   "source": [
    "master_list.iloc[45:51]"
   ]
  },
  {
   "cell_type": "code",
   "execution_count": 10,
   "id": "64b3b4a4",
   "metadata": {},
   "outputs": [],
   "source": [
    "# import pymongo to manage database\n",
    "from pymongo import MongoClient\n",
    "from pprint import pprint\n"
   ]
  },
  {
   "cell_type": "code",
   "execution_count": 11,
   "id": "d9bdf2f3",
   "metadata": {},
   "outputs": [],
   "source": [
    "client = MongoClient()"
   ]
  },
  {
   "cell_type": "code",
   "execution_count": 13,
   "id": "bdf2dbd8",
   "metadata": {},
   "outputs": [
    {
     "data": {
      "text/plain": [
       "['stats']"
      ]
     },
     "execution_count": 13,
     "metadata": {},
     "output_type": "execute_result"
    }
   ],
   "source": [
    "batters = client.batting\n",
    "batters.list_collection_names()"
   ]
  },
  {
   "cell_type": "code",
   "execution_count": 14,
   "id": "80b539b6",
   "metadata": {},
   "outputs": [],
   "source": [
    "stats = batters.stats"
   ]
  },
  {
   "cell_type": "code",
   "execution_count": 37,
   "id": "445a17bf",
   "metadata": {},
   "outputs": [
    {
     "data": {
      "text/plain": [
       "[{'_id': ObjectId('623adeda984b65fbacf6db5f'),\n",
       "  'Name': 'Woody\\xa0Abernathy',\n",
       "  'Age': 31,\n",
       "  'Tm': 'NYG',\n",
       "  'Lg': 'NL',\n",
       "  'G': 15,\n",
       "  'PA': 8,\n",
       "  'AB': 8,\n",
       "  'R': 0,\n",
       "  'H': 0,\n",
       "  '2B': 0,\n",
       "  '3B': 0,\n",
       "  'HR': 0,\n",
       "  'RBI': 0,\n",
       "  'SB': 0,\n",
       "  'CS': 0.0,\n",
       "  'BB': 0,\n",
       "  'SO': 4.0,\n",
       "  'BA': 0.0,\n",
       "  'OBP': 0.0,\n",
       "  'SLG': 0.0,\n",
       "  'OPS': 0.0,\n",
       "  'OPS+': -100.0,\n",
       "  'TB': 0,\n",
       "  'GDP': 0.0,\n",
       "  'HBP': 0,\n",
       "  'SH': 0,\n",
       "  'SF': 0.0,\n",
       "  'IBB': 0.0,\n",
       "  'Pos\\xa0Summary': 1,\n",
       "  'Year': 1946}]"
      ]
     },
     "execution_count": 37,
     "metadata": {},
     "output_type": "execute_result"
    }
   ],
   "source": [
    "list(stats.find().limit(1))"
   ]
  },
  {
   "cell_type": "code",
   "execution_count": 18,
   "id": "80a40690",
   "metadata": {},
   "outputs": [
    {
     "data": {
      "text/plain": [
       "39"
      ]
     },
     "execution_count": 18,
     "metadata": {},
     "output_type": "execute_result"
    }
   ],
   "source": [
    "len(list(stats.distinct('Age')))"
   ]
  },
  {
   "cell_type": "code",
   "execution_count": 48,
   "id": "1f177184",
   "metadata": {},
   "outputs": [],
   "source": [
    "HomersPerYear = list(stats.aggregate([\n",
    "                    {'$group' : {'_id': '$Year', 'HR': {'$sum':'$HR'}}},\n",
    "                    {'$sort':{'_id': 1}}\n",
    "                    ]))\n",
    "HomerDF = pd.DataFrame(HomersPerYear)"
   ]
  },
  {
   "cell_type": "code",
   "execution_count": 117,
   "id": "fae0be3a",
   "metadata": {},
   "outputs": [
    {
     "data": {
      "text/plain": [
       "[{'_id': 1946, 'HR': 1346},\n",
       " {'_id': 1947, 'HR': 1715},\n",
       " {'_id': 1948, 'HR': 1675},\n",
       " {'_id': 1949, 'HR': 1704},\n",
       " {'_id': 1950, 'HR': 2073}]"
      ]
     },
     "execution_count": 117,
     "metadata": {},
     "output_type": "execute_result"
    }
   ],
   "source": [
    "HomersPerYear[0:5]"
   ]
  },
  {
   "cell_type": "code",
   "execution_count": 47,
   "id": "1d612bcc",
   "metadata": {},
   "outputs": [
    {
     "data": {
      "text/plain": [
       "{'_id': 1946, 'PA': 111480}"
      ]
     },
     "execution_count": 47,
     "metadata": {},
     "output_type": "execute_result"
    }
   ],
   "source": [
    "PAPerYear = list(stats.aggregate([\n",
    "                {'$group' : {'_id': '$Year', 'PA': {'$sum':'$PA'}}},\n",
    "                {'$sort':{'_id': 1}}\n",
    "                ]))\n",
    "\n",
    "PAPerYear[0]"
   ]
  },
  {
   "cell_type": "code",
   "execution_count": 57,
   "id": "676fc368",
   "metadata": {},
   "outputs": [],
   "source": [
    "HomerDF = pd.DataFrame(HomersPerYear)\n",
    "HomerDF.rename(columns={'_id': 'Year'}, inplace=True)\n",
    "paDF = pd.DataFrame(PAPerYear)\n",
    "paDF.rename(columns={'_id': 'Year'}, inplace=True)"
   ]
  },
  {
   "cell_type": "code",
   "execution_count": 61,
   "id": "a3c4912a",
   "metadata": {},
   "outputs": [],
   "source": [
    "HomerDF['PA'] = paDF['PA']\n",
    "HomerDF['HR per 600 PA'] = (HomerDF['HR'] * 600)/ HomerDF['PA']"
   ]
  },
  {
   "cell_type": "code",
   "execution_count": 71,
   "id": "7390a22e",
   "metadata": {},
   "outputs": [
    {
     "name": "stdout",
     "output_type": "stream",
     "text": [
      "<class 'pandas.core.frame.DataFrame'>\n",
      "RangeIndex: 76 entries, 0 to 75\n",
      "Data columns (total 4 columns):\n",
      " #   Column         Non-Null Count  Dtype  \n",
      "---  ------         --------------  -----  \n",
      " 0   Year           76 non-null     int64  \n",
      " 1   HR             76 non-null     int64  \n",
      " 2   PA             76 non-null     int64  \n",
      " 3   HR per 600 PA  76 non-null     float64\n",
      "dtypes: float64(1), int64(3)\n",
      "memory usage: 2.5 KB\n"
     ]
    }
   ],
   "source": [
    "HomerDF.info()"
   ]
  },
  {
   "cell_type": "code",
   "execution_count": 87,
   "id": "c7e022da",
   "metadata": {},
   "outputs": [
    {
     "data": {
      "text/plain": [
       "([<matplotlib.axis.XTick at 0x250bbdf8220>,\n",
       "  <matplotlib.axis.XTick at 0x250bbdf8280>,\n",
       "  <matplotlib.axis.XTick at 0x250bbde2160>,\n",
       "  <matplotlib.axis.XTick at 0x250bbe445e0>,\n",
       "  <matplotlib.axis.XTick at 0x250bbe44d30>,\n",
       "  <matplotlib.axis.XTick at 0x250bbe604c0>,\n",
       "  <matplotlib.axis.XTick at 0x250bbe60c10>,\n",
       "  <matplotlib.axis.XTick at 0x250bbe4f3a0>,\n",
       "  <matplotlib.axis.XTick at 0x250bbe4faf0>,\n",
       "  <matplotlib.axis.XTick at 0x250bbe4f580>,\n",
       "  <matplotlib.axis.XTick at 0x250bbe60520>,\n",
       "  <matplotlib.axis.XTick at 0x250bbe731f0>,\n",
       "  <matplotlib.axis.XTick at 0x250bbe73940>,\n",
       "  <matplotlib.axis.XTick at 0x250bbe400d0>,\n",
       "  <matplotlib.axis.XTick at 0x250bbe40820>,\n",
       "  <matplotlib.axis.XTick at 0x250bbe45040>],\n",
       " [Text(0, 0, '1946'),\n",
       "  Text(1, 0, '1947'),\n",
       "  Text(2, 0, '1948'),\n",
       "  Text(3, 0, '1949'),\n",
       "  Text(4, 0, '1950'),\n",
       "  Text(5, 0, '1951'),\n",
       "  Text(6, 0, '1952'),\n",
       "  Text(7, 0, '1953'),\n",
       "  Text(8, 0, '1954'),\n",
       "  Text(9, 0, '1955'),\n",
       "  Text(10, 0, '1956'),\n",
       "  Text(11, 0, '1957'),\n",
       "  Text(12, 0, '1958'),\n",
       "  Text(13, 0, '1959'),\n",
       "  Text(14, 0, '1960'),\n",
       "  Text(15, 0, '1961')])"
      ]
     },
     "execution_count": 87,
     "metadata": {},
     "output_type": "execute_result"
    },
    {
     "data": {
      "image/png": "[encoded data removed]",
      "text/plain": [
       "<Figure size 1296x720 with 1 Axes>"
      ]
     },
     "metadata": {},
     "output_type": "display_data"
    }
   ],
   "source": [
    "\n",
    "sns.set_style('whitegrid')\n",
    "sns.set_palette('viridis')\n",
    "\n",
    "\n",
    "plt.figure(figsize=(18,10))\n",
    "\n",
    "\n",
    "HRgraph = sns.barplot(x= 'Year', y = 'HR', data = HomerDF)\n",
    "\n",
    "HRgraph.set_xlabel(\"Year\",fontsize=21)\n",
    "HRgraph.set_ylabel(\"HR\",fontsize=21)\n",
    "plt.xticks(np.arange(0, 77, 5), rotation = 45)\n"
   ]
  },
  {
   "cell_type": "code",
   "execution_count": 88,
   "id": "40b93f2f",
   "metadata": {},
   "outputs": [
    {
     "data": {
      "text/plain": [
       "([<matplotlib.axis.XTick at 0x250be8fc100>,\n",
       "  <matplotlib.axis.XTick at 0x250be8fc0d0>,\n",
       "  <matplotlib.axis.XTick at 0x250be8f1760>,\n",
       "  <matplotlib.axis.XTick at 0x250c03d6820>,\n",
       "  <matplotlib.axis.XTick at 0x250c03d6e50>,\n",
       "  <matplotlib.axis.XTick at 0x250c03de5e0>,\n",
       "  <matplotlib.axis.XTick at 0x250c03ded30>,\n",
       "  <matplotlib.axis.XTick at 0x250c03e54c0>,\n",
       "  <matplotlib.axis.XTick at 0x250c03e5c10>,\n",
       "  <matplotlib.axis.XTick at 0x250c03e5e20>,\n",
       "  <matplotlib.axis.XTick at 0x250c03ded00>,\n",
       "  <matplotlib.axis.XTick at 0x250c03ec1f0>,\n",
       "  <matplotlib.axis.XTick at 0x250c03eca60>,\n",
       "  <matplotlib.axis.XTick at 0x250c03f41f0>,\n",
       "  <matplotlib.axis.XTick at 0x250c03f4940>,\n",
       "  <matplotlib.axis.XTick at 0x250c03f10d0>],\n",
       " [Text(0, 0, '1946'),\n",
       "  Text(1, 0, '1947'),\n",
       "  Text(2, 0, '1948'),\n",
       "  Text(3, 0, '1949'),\n",
       "  Text(4, 0, '1950'),\n",
       "  Text(5, 0, '1951'),\n",
       "  Text(6, 0, '1952'),\n",
       "  Text(7, 0, '1953'),\n",
       "  Text(8, 0, '1954'),\n",
       "  Text(9, 0, '1955'),\n",
       "  Text(10, 0, '1956'),\n",
       "  Text(11, 0, '1957'),\n",
       "  Text(12, 0, '1958'),\n",
       "  Text(13, 0, '1959'),\n",
       "  Text(14, 0, '1960'),\n",
       "  Text(15, 0, '1961')])"
      ]
     },
     "execution_count": 88,
     "metadata": {},
     "output_type": "execute_result"
    },
    {
     "data": {
      "image/png": "[encoded data removed]",
      "text/plain": [
       "<Figure size 1296x720 with 1 Axes>"
      ]
     },
     "metadata": {},
     "output_type": "display_data"
    }
   ],
   "source": [
    "sns.set_style('whitegrid')\n",
    "sns.set_palette('viridis')\n",
    "\n",
    "\n",
    "plt.figure(figsize=(18,10))\n",
    "\n",
    "\n",
    "HRPAgraph = sns.barplot(x= 'Year', y = 'HR per 600 PA', data = HomerDF)\n",
    "\n",
    "HRPAgraph.set_xlabel(\"Year\",fontsize=21)\n",
    "HRPAgraph.set_ylabel(\"HR per 600 PA\",fontsize=21)\n",
    "plt.xticks(np.arange(0, 77, 5), rotation = 45)\n",
    "\n"
   ]
  },
  {
   "cell_type": "code",
   "execution_count": 140,
   "id": "c97a3759",
   "metadata": {},
   "outputs": [],
   "source": [
    "# Testing different cursors for datasets\n",
    "\n",
    "FiftyClub = stats.find({'PA': {'$gte': 50}},{'HR':1, 'PA':1, 'R':1, 'H':1, '2B':1, 'RBI':1, 'BB':1, 'SO':1})\n",
    "\n",
    "FiftyClub2 = stats.find({'PA': {'$gte': 50}},{'HR':1, 'PA':1, 'R':1, 'H':1, '2B':1, 'RBI':1, 'BB':1, 'SO':1, 'OPS':1})"
   ]
  },
  {
   "cell_type": "code",
   "execution_count": 141,
   "id": "eed71e08",
   "metadata": {},
   "outputs": [],
   "source": [
    "# build actual dataframe for analysis\n",
    "\n",
    "LRdf = pd.DataFrame(list(FiftyClub))\n",
    "LRdf.rename(columns={'2B': 'Db'}, inplace=True)\n",
    "LRdf.drop(['_id'], axis=1, inplace=True)"
   ]
  },
  {
   "cell_type": "code",
   "execution_count": 147,
   "id": "459af02e",
   "metadata": {},
   "outputs": [
    {
     "name": "stdout",
     "output_type": "stream",
     "text": [
      "<class 'pandas.core.frame.DataFrame'>\n",
      "RangeIndex: 36270 entries, 0 to 36269\n",
      "Data columns (total 8 columns):\n",
      " #   Column  Non-Null Count  Dtype  \n",
      "---  ------  --------------  -----  \n",
      " 0   PA      36270 non-null  int64  \n",
      " 1   R       36270 non-null  int64  \n",
      " 2   H       36270 non-null  int64  \n",
      " 3   Db      36270 non-null  int64  \n",
      " 4   HR      36270 non-null  int64  \n",
      " 5   RBI     36270 non-null  int64  \n",
      " 6   BB      36270 non-null  int64  \n",
      " 7   SO      36270 non-null  float64\n",
      "dtypes: float64(1), int64(7)\n",
      "memory usage: 2.2 MB\n"
     ]
    }
   ],
   "source": [
    "LRdf.to_csv('modelDF.csv', index=False)\n",
    "\n",
    "LRdf.info()"
   ]
  },
  {
   "cell_type": "code",
   "execution_count": null,
   "id": "6cb50834",
   "metadata": {},
   "outputs": [],
   "source": []
  },
  {
   "cell_type": "code",
   "execution_count": 124,
   "id": "b71b5449",
   "metadata": {},
   "outputs": [
    {
     "data": {
      "text/html": [
       "<table class=\"simpletable\">\n",
       "<caption>OLS Regression Results</caption>\n",
       "<tr>\n",
       "  <th>Dep. Variable:</th>           <td>HR</td>        <th>  R-squared:         </th> <td>   0.893</td> \n",
       "</tr>\n",
       "<tr>\n",
       "  <th>Model:</th>                   <td>OLS</td>       <th>  Adj. R-squared:    </th> <td>   0.893</td> \n",
       "</tr>\n",
       "<tr>\n",
       "  <th>Method:</th>             <td>Least Squares</td>  <th>  F-statistic:       </th> <td>4.329e+04</td>\n",
       "</tr>\n",
       "<tr>\n",
       "  <th>Date:</th>             <td>Wed, 23 Mar 2022</td> <th>  Prob (F-statistic):</th>  <td>  0.00</td>  \n",
       "</tr>\n",
       "<tr>\n",
       "  <th>Time:</th>                 <td>13:13:12</td>     <th>  Log-Likelihood:    </th> <td> -90487.</td> \n",
       "</tr>\n",
       "<tr>\n",
       "  <th>No. Observations:</th>      <td> 36270</td>      <th>  AIC:               </th> <td>1.810e+05</td>\n",
       "</tr>\n",
       "<tr>\n",
       "  <th>Df Residuals:</th>          <td> 36262</td>      <th>  BIC:               </th> <td>1.811e+05</td>\n",
       "</tr>\n",
       "<tr>\n",
       "  <th>Df Model:</th>              <td>     7</td>      <th>                     </th>     <td> </td>    \n",
       "</tr>\n",
       "<tr>\n",
       "  <th>Covariance Type:</th>      <td>nonrobust</td>    <th>                     </th>     <td> </td>    \n",
       "</tr>\n",
       "</table>\n",
       "<table class=\"simpletable\">\n",
       "<tr>\n",
       "      <td></td>         <th>coef</th>     <th>std err</th>      <th>t</th>      <th>P>|t|</th>  <th>[0.025</th>    <th>0.975]</th>  \n",
       "</tr>\n",
       "<tr>\n",
       "  <th>Intercept</th> <td>   -0.6986</td> <td>    0.030</td> <td>  -23.155</td> <td> 0.000</td> <td>   -0.758</td> <td>   -0.639</td>\n",
       "</tr>\n",
       "<tr>\n",
       "  <th>PA</th>        <td>   -0.0194</td> <td>    0.001</td> <td>  -36.143</td> <td> 0.000</td> <td>   -0.020</td> <td>   -0.018</td>\n",
       "</tr>\n",
       "<tr>\n",
       "  <th>R</th>         <td>    0.1497</td> <td>    0.002</td> <td>   70.467</td> <td> 0.000</td> <td>    0.146</td> <td>    0.154</td>\n",
       "</tr>\n",
       "<tr>\n",
       "  <th>H</th>         <td>   -0.0668</td> <td>    0.002</td> <td>  -29.904</td> <td> 0.000</td> <td>   -0.071</td> <td>   -0.062</td>\n",
       "</tr>\n",
       "<tr>\n",
       "  <th>Db</th>        <td>   -0.1010</td> <td>    0.004</td> <td>  -25.977</td> <td> 0.000</td> <td>   -0.109</td> <td>   -0.093</td>\n",
       "</tr>\n",
       "<tr>\n",
       "  <th>RBI</th>       <td>    0.3408</td> <td>    0.001</td> <td>  245.507</td> <td> 0.000</td> <td>    0.338</td> <td>    0.344</td>\n",
       "</tr>\n",
       "<tr>\n",
       "  <th>BB</th>        <td>    0.0038</td> <td>    0.002</td> <td>    2.532</td> <td> 0.011</td> <td>    0.001</td> <td>    0.007</td>\n",
       "</tr>\n",
       "<tr>\n",
       "  <th>SO</th>        <td>    0.0679</td> <td>    0.001</td> <td>   80.685</td> <td> 0.000</td> <td>    0.066</td> <td>    0.070</td>\n",
       "</tr>\n",
       "</table>\n",
       "<table class=\"simpletable\">\n",
       "<tr>\n",
       "  <th>Omnibus:</th>       <td>3047.050</td> <th>  Durbin-Watson:     </th> <td>   1.932</td> \n",
       "</tr>\n",
       "<tr>\n",
       "  <th>Prob(Omnibus):</th>  <td> 0.000</td>  <th>  Jarque-Bera (JB):  </th> <td>18064.186</td>\n",
       "</tr>\n",
       "<tr>\n",
       "  <th>Skew:</th>           <td> 0.152</td>  <th>  Prob(JB):          </th> <td>    0.00</td> \n",
       "</tr>\n",
       "<tr>\n",
       "  <th>Kurtosis:</th>       <td> 6.444</td>  <th>  Cond. No.          </th> <td>    758.</td> \n",
       "</tr>\n",
       "</table><br/><br/>Notes:<br/>[1] Standard Errors assume that the covariance matrix of the errors is correctly specified."
      ],
      "text/plain": [
       "<class 'statsmodels.iolib.summary.Summary'>\n",
       "\"\"\"\n",
       "                            OLS Regression Results                            \n",
       "==============================================================================\n",
       "Dep. Variable:                     HR   R-squared:                       0.893\n",
       "Model:                            OLS   Adj. R-squared:                  0.893\n",
       "Method:                 Least Squares   F-statistic:                 4.329e+04\n",
       "Date:                Wed, 23 Mar 2022   Prob (F-statistic):               0.00\n",
       "Time:                        13:13:12   Log-Likelihood:                -90487.\n",
       "No. Observations:               36270   AIC:                         1.810e+05\n",
       "Df Residuals:                   36262   BIC:                         1.811e+05\n",
       "Df Model:                           7                                         \n",
       "Covariance Type:            nonrobust                                         \n",
       "==============================================================================\n",
       "                 coef    std err          t      P>|t|      [0.025      0.975]\n",
       "------------------------------------------------------------------------------\n",
       "Intercept     -0.6986      0.030    -23.155      0.000      -0.758      -0.639\n",
       "PA            -0.0194      0.001    -36.143      0.000      -0.020      -0.018\n",
       "R              0.1497      0.002     70.467      0.000       0.146       0.154\n",
       "H             -0.0668      0.002    -29.904      0.000      -0.071      -0.062\n",
       "Db            -0.1010      0.004    -25.977      0.000      -0.109      -0.093\n",
       "RBI            0.3408      0.001    245.507      0.000       0.338       0.344\n",
       "BB             0.0038      0.002      2.532      0.011       0.001       0.007\n",
       "SO             0.0679      0.001     80.685      0.000       0.066       0.070\n",
       "==============================================================================\n",
       "Omnibus:                     3047.050   Durbin-Watson:                   1.932\n",
       "Prob(Omnibus):                  0.000   Jarque-Bera (JB):            18064.186\n",
       "Skew:                           0.152   Prob(JB):                         0.00\n",
       "Kurtosis:                       6.444   Cond. No.                         758.\n",
       "==============================================================================\n",
       "\n",
       "Notes:\n",
       "[1] Standard Errors assume that the covariance matrix of the errors is correctly specified.\n",
       "\"\"\""
      ]
     },
     "execution_count": 124,
     "metadata": {},
     "output_type": "execute_result"
    }
   ],
   "source": [
    "# Model summary from model testing\n",
    "\n",
    "y, X = patsy.dmatrices('HR ~ PA + R + H + Db + RBI + BB + SO',\n",
    "                       data=LRdf, return_type=\"dataframe\")\n",
    "\n",
    "# Create your model\n",
    "model2 = sm.OLS(y, X)\n",
    "\n",
    "# Fit your model to your training set\n",
    "fit2 = model2.fit()\n",
    "\n",
    "# Print summary statistics of the model's performance\n",
    "fit2.summary()\n"
   ]
  },
  {
   "cell_type": "code",
   "execution_count": 129,
   "id": "0520294f",
   "metadata": {},
   "outputs": [],
   "source": [
    "# split datasets\n",
    "\n",
    "HomeRuns = LRdf.loc[:,'HR']\n",
    "Variables = LRdf.copy()\n",
    "Variables.drop(['HR'], axis=1, inplace=True)\n",
    "\n",
    "X_train, X_test, y_train, y_test = train_test_split(Variables, HomeRuns, test_size=0.2,random_state=5)"
   ]
  },
  {
   "cell_type": "code",
   "execution_count": 131,
   "id": "6695c37d",
   "metadata": {},
   "outputs": [
    {
     "name": "stdout",
     "output_type": "stream",
     "text": [
      "<class 'pandas.core.frame.DataFrame'>\n",
      "RangeIndex: 36270 entries, 0 to 36269\n",
      "Data columns (total 7 columns):\n",
      " #   Column  Non-Null Count  Dtype  \n",
      "---  ------  --------------  -----  \n",
      " 0   PA      36270 non-null  int64  \n",
      " 1   R       36270 non-null  int64  \n",
      " 2   H       36270 non-null  int64  \n",
      " 3   Db      36270 non-null  int64  \n",
      " 4   RBI     36270 non-null  int64  \n",
      " 5   BB      36270 non-null  int64  \n",
      " 6   SO      36270 non-null  float64\n",
      "dtypes: float64(1), int64(6)\n",
      "memory usage: 1.9 MB\n"
     ]
    }
   ],
   "source": [
    "Variables.info()"
   ]
  },
  {
   "cell_type": "code",
   "execution_count": 132,
   "id": "7098e7be",
   "metadata": {},
   "outputs": [
    {
     "name": "stdout",
     "output_type": "stream",
     "text": [
      "0.8919053044768451\n",
      "0.8976221090277573\n"
     ]
    }
   ],
   "source": [
    "model = LinearRegression()\n",
    "model.fit(X_train, y_train)\n",
    "print(model.score(X_train, y_train))\n",
    "print(model.score(X_test, y_test))"
   ]
  },
  {
   "cell_type": "code",
   "execution_count": 136,
   "id": "c5be0e2e",
   "metadata": {},
   "outputs": [],
   "source": [
    "feature_names = []\n",
    "for col in Variables.columns:\n",
    "    feature_names.append(col)\n"
   ]
  },
  {
   "cell_type": "code",
   "execution_count": 146,
   "id": "0dc99329",
   "metadata": {},
   "outputs": [],
   "source": [
    "model.feature_names = feature_names"
   ]
  },
  {
   "cell_type": "code",
   "execution_count": null,
   "id": "77e5ee52",
   "metadata": {},
   "outputs": [],
   "source": [
    "# save model as pickle\n",
    "\n",
    "with open('predictor_app/models/lr.pk1', 'wb') as f:\n",
    "    pk1.dump(model, f)"
   ]
  },
  {
   "cell_type": "code",
   "execution_count": 159,
   "id": "52aa7268",
   "metadata": {},
   "outputs": [
    {
     "data": {
      "text/plain": [
       "[<matplotlib.lines.Line2D at 0x250c42471c0>]"
      ]
     },
     "execution_count": 159,
     "metadata": {},
     "output_type": "execute_result"
    },
    {
     "data": {
      "image/png": "[encoded data removed]",
      "text/plain": [
       "<Figure size 864x720 with 1 Axes>"
      ]
     },
     "metadata": {
      "needs_background": "light"
     },
     "output_type": "display_data"
    }
   ],
   "source": [
    "# Fitted vs. Actual\n",
    "y_train_pred = model.predict(X_train)\n",
    "\n",
    "plt.figure(figsize=(12,10))\n",
    "\n",
    "plt.scatter(y_train, y_train_pred, alpha=0.2)\n",
    "plt.plot([-2, 50], [-2, 50], color='green')"
   ]
  },
  {
   "cell_type": "code",
   "execution_count": null,
   "id": "7cf17d47",
   "metadata": {},
   "outputs": [],
   "source": []
  }
 ],
 "metadata": {
  "kernelspec": {
   "display_name": "Python 3 (ipykernel)",
   "language": "python",
   "name": "python3"
  },
  "language_info": {
   "codemirror_mode": {
    "name": "ipython",
    "version": 3
   },
   "file_extension": ".py",
   "mimetype": "text/x-python",
   "name": "python",
   "nbconvert_exporter": "python",
   "pygments_lexer": "ipython3",
   "version": "3.8.8"
  }
 },
 "nbformat": 4,
 "nbformat_minor": 5
}
